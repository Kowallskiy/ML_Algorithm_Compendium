{
 "cells": [
  {
   "cell_type": "code",
   "execution_count": 1,
   "metadata": {},
   "outputs": [],
   "source": [
    "import pandas as pd\n",
    "import numpy as np\n",
    "import matplotlib.pyplot as plt\n",
    "import seaborn as sns\n",
    "from sklearn.tree import DecisionTreeClassifier\n",
    "from sklearn.pipeline import Pipeline\n",
    "from sklearn.model_selection import train_test_split\n",
    "from sklearn.preprocessing import OneHotEncoder, LabelEncoder\n",
    "from sklearn.compose import ColumnTransformer\n",
    "from sklearn.metrics import accuracy_score\n",
    "from sklearn.preprocessing import StandardScaler, MinMaxScaler, PolynomialFeatures"
   ]
  },
  {
   "cell_type": "code",
   "execution_count": 2,
   "metadata": {},
   "outputs": [],
   "source": [
    "heart_data = pd.read_csv(\"c:/Users/Userpc/Desktop/Projects/ML Shortcuts/Classification/CVD_cleaned.csv\")"
   ]
  },
  {
   "cell_type": "code",
   "execution_count": 3,
   "metadata": {},
   "outputs": [
    {
     "data": {
      "text/plain": [
       "General_Health                   object\n",
       "Checkup                          object\n",
       "Exercise                         object\n",
       "Heart_Disease                    object\n",
       "Skin_Cancer                      object\n",
       "Other_Cancer                     object\n",
       "Depression                       object\n",
       "Diabetes                         object\n",
       "Arthritis                        object\n",
       "Sex                              object\n",
       "Age_Category                     object\n",
       "Height_(cm)                     float64\n",
       "Weight_(kg)                     float64\n",
       "BMI                             float64\n",
       "Smoking_History                  object\n",
       "Alcohol_Consumption             float64\n",
       "Fruit_Consumption               float64\n",
       "Green_Vegetables_Consumption    float64\n",
       "FriedPotato_Consumption         float64\n",
       "dtype: object"
      ]
     },
     "execution_count": 3,
     "metadata": {},
     "output_type": "execute_result"
    }
   ],
   "source": [
    "heart_data.dtypes"
   ]
  },
  {
   "cell_type": "code",
   "execution_count": 4,
   "metadata": {},
   "outputs": [],
   "source": [
    "X = heart_data.drop([\"Height_(cm)\", \"Weight_(kg)\", \"Heart_Disease\"], axis=1)\n",
    "y = heart_data[\"Heart_Disease\"]"
   ]
  },
  {
   "cell_type": "code",
   "execution_count": 5,
   "metadata": {},
   "outputs": [
    {
     "data": {
      "text/plain": [
       "General_Health      5\n",
       "Checkup             5\n",
       "Exercise            2\n",
       "Skin_Cancer         2\n",
       "Other_Cancer        2\n",
       "Depression          2\n",
       "Diabetes            4\n",
       "Arthritis           2\n",
       "Sex                 2\n",
       "Age_Category       13\n",
       "Smoking_History     2\n",
       "dtype: int64"
      ]
     },
     "execution_count": 5,
     "metadata": {},
     "output_type": "execute_result"
    }
   ],
   "source": [
    "X.select_dtypes('object').nunique()"
   ]
  },
  {
   "cell_type": "code",
   "execution_count": 6,
   "metadata": {},
   "outputs": [],
   "source": [
    "categorical_columns = [\"General_Health\", \"Checkup\", \"Exercise\", \"Skin_Cancer\",\n",
    "                       \"Other_Cancer\", \"Depression\", \"Diabetes\", \"Arthritis\", \"Sex\", \"Age_Category\", \"Smoking_History\"]\n",
    "numerical_columns = X.columns.difference(categorical_columns)"
   ]
  },
  {
   "cell_type": "code",
   "execution_count": 7,
   "metadata": {},
   "outputs": [
    {
     "name": "stdout",
     "output_type": "stream",
     "text": [
      "Accuracy: 0.919316\n",
      "Accuracy: 0.918992\n",
      "Accuracy: 0.916532\n",
      "Accuracy: 0.907175\n"
     ]
    }
   ],
   "source": [
    "def get_mae(max_leaf_nodes, X_train, X_test, y_train, y_test):\n",
    "\n",
    "    preprocessor = ColumnTransformer(transformers=[\n",
    "        ('onehot', OneHotEncoder(handle_unknown='ignore'), categorical_columns),\n",
    "        ('num', 'passthrough', numerical_columns)\n",
    "    ])\n",
    "\n",
    "    pipe = Pipeline([\n",
    "        ('preprocessor', preprocessor),\n",
    "        ('scaler', StandardScaler()),\n",
    "        ('model', DecisionTreeClassifier(max_leaf_nodes=max_leaf_nodes, random_state=0))\n",
    "    ])\n",
    "\n",
    "    pred = pipe.fit(X_train, y_train).predict(X_test)\n",
    "    return pred\n",
    "\n",
    "X_train, X_test, y_train, y_test = train_test_split(X, y, random_state=0, train_size=0.9)\n",
    "\n",
    "for max_leaf_nodes in [5, 50, 500, 5000]:\n",
    "    my_mae = get_mae(max_leaf_nodes, X_train, X_test, y_train, y_test)\n",
    "    accuracy = accuracy_score(y_test, my_mae)\n",
    "    print(f\"Accuracy: {accuracy:.6f}\")"
   ]
  },
  {
   "cell_type": "markdown",
   "metadata": {},
   "source": [
    "It seems like 5 leaves is the optimal number"
   ]
  },
  {
   "cell_type": "code",
   "execution_count": 8,
   "metadata": {},
   "outputs": [
    {
     "name": "stdout",
     "output_type": "stream",
     "text": [
      "Random Fores accuracy:  0.915949\n"
     ]
    }
   ],
   "source": [
    "from sklearn.ensemble import RandomForestClassifier\n",
    "\n",
    "preprocessor = ColumnTransformer(transformers=[\n",
    "    ('num', 'passthrough', numerical_columns),\n",
    "    ('cat', OneHotEncoder(handle_unknown='ignore'), categorical_columns)\n",
    "])\n",
    "\n",
    "pipeline = Pipeline([\n",
    "    ('preprocessor', preprocessor),\n",
    "    ('model', RandomForestClassifier(random_state=0))\n",
    "])\n",
    "\n",
    "y_pred = pipeline.fit(X_train, y_train).predict(X_test)\n",
    "\n",
    "rf_accuracy = accuracy_score(y_test, y_pred)\n",
    "print(f\"Random Fores accuracy: {rf_accuracy: .6f}\")"
   ]
  },
  {
   "cell_type": "code",
   "execution_count": 10,
   "metadata": {},
   "outputs": [
    {
     "name": "stdout",
     "output_type": "stream",
     "text": [
      "Gradient Boosting accuracy: 0.918636\n"
     ]
    }
   ],
   "source": [
    "from sklearn.ensemble import GradientBoostingClassifier\n",
    "\n",
    "pipeline = Pipeline([\n",
    "    ('preprocessor', preprocessor),\n",
    "    ('model', GradientBoostingClassifier(n_estimators=200, learning_rate=0.1, random_state=0))\n",
    "])\n",
    "\n",
    "y_pred = pipeline.fit(X_train, y_train).predict(X_test)\n",
    "\n",
    "gb_accuracy = accuracy_score(y_test, y_pred)\n",
    "print(f\"Gradient Boosting accuracy: {gb_accuracy:.6f}\")"
   ]
  }
 ],
 "metadata": {
  "kernelspec": {
   "display_name": "Python 3",
   "language": "python",
   "name": "python3"
  },
  "language_info": {
   "codemirror_mode": {
    "name": "ipython",
    "version": 3
   },
   "file_extension": ".py",
   "mimetype": "text/x-python",
   "name": "python",
   "nbconvert_exporter": "python",
   "pygments_lexer": "ipython3",
   "version": "3.11.4"
  },
  "orig_nbformat": 4
 },
 "nbformat": 4,
 "nbformat_minor": 2
}
