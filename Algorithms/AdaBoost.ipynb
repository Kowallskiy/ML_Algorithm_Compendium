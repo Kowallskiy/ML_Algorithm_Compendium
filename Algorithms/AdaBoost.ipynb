{
 "cells": [
  {
   "cell_type": "code",
   "execution_count": 1,
   "metadata": {},
   "outputs": [],
   "source": [
    "import numpy as np"
   ]
  },
  {
   "cell_type": "code",
   "execution_count": 1,
   "metadata": {},
   "outputs": [
    {
     "ename": "SyntaxError",
     "evalue": "incomplete input (1021819000.py, line 35)",
     "output_type": "error",
     "traceback": [
      "\u001b[1;36m  Cell \u001b[1;32mIn[1], line 35\u001b[1;36m\u001b[0m\n\u001b[1;33m    for feature_i in range(n_features):\u001b[0m\n\u001b[1;37m                                       ^\u001b[0m\n\u001b[1;31mSyntaxError\u001b[0m\u001b[1;31m:\u001b[0m incomplete input\n"
     ]
    }
   ],
   "source": [
    "class DecisionStump:\n",
    "    def __init__(self):\n",
    "        self.polarity = 1\n",
    "        self.feature_idx = None\n",
    "        self.threshold = None\n",
    "        self.alpha = None\n",
    "\n",
    "    def predict(self, X):\n",
    "        n_samples = X.shape[0]\n",
    "        X_column = X[:, self.feature_idx]\n",
    "\n",
    "        predictions = np.ones(n_samples)\n",
    "        if self.polarity == 1:\n",
    "            predictions[X_column < self.threshold] = -1\n",
    "        else:\n",
    "            predictions[X_column > self.threshold] = -1\n",
    "\n",
    "        return predictions\n",
    "    \n",
    "    class Adaboost:\n",
    "        def __init__(self, n_clf=5):\n",
    "            self.n_clf = n_clf\n",
    "\n",
    "        def fit(self, X, y):\n",
    "            n_samples, n_features = X.shape\n",
    "            \n",
    "            # init weights\n",
    "            w = np.full(n_samples, (1/n_samples))\n",
    "\n",
    "            self.clfs = []\n",
    "            for _ in range(self.n_clf):\n",
    "                clf = DecisionStump()\n",
    "\n",
    "                min_error = float('inf')\n",
    "                for feature_i in range(n_features):\n",
    "                    X_column = X[:, feature_i]\n",
    "                    thresholds = np.unique(X_column)\n",
    "                    for threshold in thresholds:\n",
    "                        p = 1\n",
    "                        predictions = np.ones(n_samples)\n",
    "                        predictions[X_column < threshold] = -1"
   ]
  }
 ],
 "metadata": {
  "kernelspec": {
   "display_name": "Python 3",
   "language": "python",
   "name": "python3"
  },
  "language_info": {
   "codemirror_mode": {
    "name": "ipython",
    "version": 3
   },
   "file_extension": ".py",
   "mimetype": "text/x-python",
   "name": "python",
   "nbconvert_exporter": "python",
   "pygments_lexer": "ipython3",
   "version": "3.11.4"
  },
  "orig_nbformat": 4
 },
 "nbformat": 4,
 "nbformat_minor": 2
}
