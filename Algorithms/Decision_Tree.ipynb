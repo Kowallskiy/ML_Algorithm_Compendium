{
 "cells": [
  {
   "cell_type": "markdown",
   "metadata": {},
   "source": [
    "## Decision Tree"
   ]
  },
  {
   "cell_type": "markdown",
   "metadata": {},
   "source": [
    "### Entropy"
   ]
  },
  {
   "cell_type": "markdown",
   "metadata": {},
   "source": [
    "$$\n",
    "E = - \\sum p(X) \\log_2(p(X))\n",
    "$$\n",
    "$$\n",
    "p(X) = \\frac {№x}{n}\n",
    "$$\n",
    "where $№x$ is the number of occurences of $x$"
   ]
  },
  {
   "cell_type": "markdown",
   "metadata": {},
   "source": [
    "### Information Gain\n",
    "$$\n",
    "IG = E(parent) - [weighted\\ average]* E(children)\n",
    "$$"
   ]
  },
  {
   "cell_type": "markdown",
   "metadata": {},
   "source": [
    "### Algorithm\n",
    "__Train algorithm := Build the tree__\n",
    "* Start at the top node and at each node select the best split based on the best information gain\n",
    "* Greedy search: Loop over all features and over all thresholds (all possible feature values)\n",
    "* Save the best split feature and split threshold at each node\n",
    "* Build the tree recursively\n",
    "* Apply some stopping criteria to stop growing. E.g here: maximum depth, minimum samples at node, no more class distribution in node\n",
    "* WHen we have a leaf node, store the most common class label of this node\n",
    "\n",
    "__Predict := Traverse Tree__\n",
    "* Traverse the tree recursively\n",
    "* At each node look at the best split feature of the test feature vector x and go left or right depending on x[featue_idx] <= threshold\n",
    "* When we reach the leaf node we return the stored most common class label"
   ]
  }
 ],
 "metadata": {
  "language_info": {
   "name": "python"
  },
  "orig_nbformat": 4
 },
 "nbformat": 4,
 "nbformat_minor": 2
}
