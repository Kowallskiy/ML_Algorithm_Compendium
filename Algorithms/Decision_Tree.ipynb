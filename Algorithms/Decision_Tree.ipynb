{
 "cells": [
  {
   "cell_type": "markdown",
   "metadata": {},
   "source": [
    "## Decision Tree"
   ]
  },
  {
   "cell_type": "markdown",
   "metadata": {},
   "source": [
    "### Entropy"
   ]
  },
  {
   "cell_type": "markdown",
   "metadata": {},
   "source": [
    "$$\n",
    "E = - \\sum p(X) \\log_2(p(X))\n",
    "$$\n",
    "$$\n",
    "p(X) = \\frac {№x}{n}\n",
    "$$\n",
    "where $№x$ is the number of occurences of $x$"
   ]
  },
  {
   "cell_type": "markdown",
   "metadata": {},
   "source": [
    "### Information Gain\n",
    "$$\n",
    "IG = E(parent) - [weighted\\ average]* E(children)\n",
    "$$"
   ]
  },
  {
   "cell_type": "markdown",
   "metadata": {},
   "source": [
    "### Algorithm\n",
    "__Train algorithm := Build the tree__\n",
    "* Start at the top node and at each node select the best split based on the best information gain\n",
    "* Greedy search: Loop over all features and over all thresholds (all possible feature values)\n",
    "* Save the best split feature and split threshold at each node\n",
    "* Build the tree recursively\n",
    "* Apply some stopping criteria to stop growing. E.g here: maximum depth, minimum samples at node, no more class distribution in node\n",
    "* WHen we have a leaf node, store the most common class label of this node\n",
    "\n",
    "__Predict := Traverse Tree__\n",
    "* Traverse the tree recursively\n",
    "* At each node look at the best split feature of the test feature vector x and go left or right depending on x[featue_idx] <= threshold\n",
    "* When we reach the leaf node we return the stored most common class label"
   ]
  },
  {
   "cell_type": "code",
   "execution_count": null,
   "metadata": {},
   "outputs": [],
   "source": [
    "import numpy as np"
   ]
  },
  {
   "cell_type": "code",
   "execution_count": null,
   "metadata": {},
   "outputs": [],
   "source": [
    "def entropy(y):\n",
    "    hist = np.bincount(y)\n",
    "    ps = hist / len(y)\n",
    "    return -np.sum([p * np.log2(p) for p in ps if p > 0])\n",
    "\n",
    "class Node:\n",
    "    def __init__(self, feature=None, threshold=None, left=None, right=None, *, value=None):\n",
    "        self.feature = feature\n",
    "        self.threshold = threshold\n",
    "        self.left = left\n",
    "        self.right = right\n",
    "        self.value = value\n",
    "\n",
    "    def is_leaf_node(self):\n",
    "        return self.value is not None\n",
    "    \n",
    "class DecisionTree:\n",
    "    def __init__(self, min_samples_split=2, max_depth=100, n_feats=None):\n",
    "        self.min_samples_split = min_samples_split\n",
    "        self.max_depth = max_depth\n",
    "        self.n_feats = n_feats\n",
    "        self.root = None\n",
    "\n",
    "    def fit(self, X, y):\n",
    "        \n",
    "        pass"
   ]
  }
 ],
 "metadata": {
  "kernelspec": {
   "display_name": "Python 3",
   "language": "python",
   "name": "python3"
  },
  "language_info": {
   "name": "python",
   "version": "3.11.4"
  },
  "orig_nbformat": 4
 },
 "nbformat": 4,
 "nbformat_minor": 2
}
